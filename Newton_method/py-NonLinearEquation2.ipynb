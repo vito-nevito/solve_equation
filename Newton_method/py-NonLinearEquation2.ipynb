{
 "cells": [
  {
   "cell_type": "code",
   "execution_count": 9,
   "id": "acc5217f",
   "metadata": {},
   "outputs": [],
   "source": [
    "import imageio.v2 as imageio\n",
    "import matplotlib.pyplot as plt\n",
    "import numpy as np"
   ]
  },
  {
   "cell_type": "code",
   "execution_count": 10,
   "id": "3ab59ded",
   "metadata": {},
   "outputs": [],
   "source": [
    "def func(x):\n",
    "    return float(4*np.sin(x/2) + np.cos(x) * np.tanh(x) - x + 2)\n",
    "\n",
    "def dfunc(x):\n",
    "    return float(2*np.cos(x/2) - np.sin(x)*np.tanh(x) + np.cos(x) / (np.cosh(x)**2) - 1)\n",
    "\n",
    "def breakCheck1(x1, x0):\n",
    "    if (np.abs(x1 - x0) <= 1e-3):\n",
    "        return True\n",
    "    return False\n",
    "\n",
    "def breakCheck2(x1):\n",
    "    if (np.abs(func(x1)) <= 1e-3):\n",
    "        return True\n",
    "    return False\n",
    "    \n",
    "def create_frame(t):\n",
    "    fig = plt.figure(figsize=(12, 12))\n",
    "    \n",
    "    xn = []\n",
    "    x0 = float(9 - t/(100/8))\n",
    "    xn.append(x0)\n",
    "    x1 = x0 - func(x0)/(dfunc(x0))\n",
    "    xn.append(x1)\n",
    "    a = breakCheck1(x1, x0)\n",
    "    b = breakCheck2(x1)\n",
    "    index = 1;\n",
    "    while(not (a or b)):\n",
    "        x0 = x1\n",
    "        x1 = x0 -  func(x0)/dfunc(x0)\n",
    "        xn.append(x1)\n",
    "        a = breakCheck1(x1, x0)\n",
    "        b = breakCheck2(x1)\n",
    "        index += 1\n",
    "        if (index > 30):\n",
    "            break\n",
    "    \n",
    "    x = np.linspace(0, 10, 100)\n",
    "    y = [func(t) for t in x]\n",
    "    yn = [func(t) for t in xn]\n",
    "    plt.plot(x, y)\n",
    "    plt.plot(x, [0]*len(x), 'k')\n",
    "    plt.plot(xn, [0]*len(xn), 'ro')\n",
    "    plt.plot(xn, yn, 'ro')\n",
    "    root = 4.7927776110652285104\n",
    "    plt.plot(root, 0, 'go')\n",
    "    for i in range(len(xn) - 1):\n",
    "        plt.plot(xn[i:i+2], [func(xn[i]), 0], 'k--')\n",
    "        plt.plot([xn[i]]*2, [func(xn[i]), 0], 'k--')\n",
    "        \n",
    "    plt.axis([0-1, 10+1, min(y)-1, max(y)+1])\n",
    "    plt.grid()\n",
    "    plt.savefig(f'img_{t}.png', \n",
    "                transparent = False,  \n",
    "                facecolor = 'white'\n",
    "               )\n",
    "    plt.close()\n",
    "    \n"
   ]
  },
  {
   "cell_type": "code",
   "execution_count": 11,
   "id": "54136673",
   "metadata": {
    "scrolled": false
   },
   "outputs": [],
   "source": [
    "time = [i for i in range(1, 100 + 1)]\n",
    "frames = []\n",
    "for t in time:\n",
    "    create_frame(t)\n",
    "    frames.append(imageio.imread(f'img_{t}.png'))"
   ]
  },
  {
   "cell_type": "code",
   "execution_count": 12,
   "id": "9f614397",
   "metadata": {},
   "outputs": [],
   "source": [
    "imageio.mimsave('.example.gif',\n",
    "                frames,\n",
    "                fps = 8, loop = 0)"
   ]
  },
  {
   "cell_type": "code",
   "execution_count": null,
   "id": "17861b04",
   "metadata": {},
   "outputs": [],
   "source": []
  }
 ],
 "metadata": {
  "kernelspec": {
   "display_name": "Python 3 (ipykernel)",
   "language": "python",
   "name": "python3"
  },
  "language_info": {
   "codemirror_mode": {
    "name": "ipython",
    "version": 3
   },
   "file_extension": ".py",
   "mimetype": "text/x-python",
   "name": "python",
   "nbconvert_exporter": "python",
   "pygments_lexer": "ipython3",
   "version": "3.11.4"
  }
 },
 "nbformat": 4,
 "nbformat_minor": 5
}
