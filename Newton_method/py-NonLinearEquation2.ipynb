{
 "cells": [
  {
   "cell_type": "markdown",
   "id": "fa326d36",
   "metadata": {},
   "source": [
    "## Метод Ньютона\n",
    "\n",
    "**Метод Ньютона** — это итерационный численный метод нахождения корня (нуля) заданной функции. Метод был впервые предложен английским физиком, математиком и астрономом Исааком Ньютоном.\n",
    "\n",
    "<img\n",
    "  src=\"https://upload.wikimedia.org/wikipedia/commons/8/8c/Newton_iteration.svg\"\n",
    "  width=\"300\">\n",
    "\n",
    "Итерациоонная формула для нахождения шага:\n",
    "$x_{i+1} = x_{i} - \\frac{f(x_{i})}{f'(x_{i})}$\n",
    "\n",
    "\n",
    "---\n",
    "\n",
    "Критерии остановки:\n",
    "1. $|x_{n} - x_{n-1}|$ < $\\varepsilon$\n",
    "2. $|f(x)|$ < $\\varepsilon$\n",
    "\n",
    "Квадратичная сходимость:\n",
    "* Если начальное приближение недостаточно близко к решению, то метод может не сойтись\n",
    "* Порядок сходимости равен q = 2\n",
    "* В качестве начального приближения выбираем границу участка, на которой функция и её вторая производная имеют один знак:$f(x₀)f''$(x₀) > 0"
   ]
  },
  {
   "cell_type": "code",
   "execution_count": 12,
   "id": "acc5217f",
   "metadata": {
    "scrolled": true
   },
   "outputs": [
    {
     "ename": "ModuleNotFoundError",
     "evalue": "No module named 'imageio.v2'",
     "output_type": "error",
     "traceback": [
      "\u001b[1;31m---------------------------------------------------------------------------\u001b[0m",
      "\u001b[1;31mModuleNotFoundError\u001b[0m                       Traceback (most recent call last)",
      "Input \u001b[1;32mIn [12]\u001b[0m, in \u001b[0;36m<cell line: 1>\u001b[1;34m()\u001b[0m\n\u001b[1;32m----> 1\u001b[0m \u001b[38;5;28;01mimport\u001b[39;00m \u001b[38;5;21;01mimageio\u001b[39;00m\u001b[38;5;21;01m.\u001b[39;00m\u001b[38;5;21;01mv2\u001b[39;00m \u001b[38;5;28;01mas\u001b[39;00m \u001b[38;5;21;01mimageio\u001b[39;00m\n\u001b[0;32m      2\u001b[0m \u001b[38;5;28;01mimport\u001b[39;00m \u001b[38;5;21;01mmatplotlib\u001b[39;00m\u001b[38;5;21;01m.\u001b[39;00m\u001b[38;5;21;01mpyplot\u001b[39;00m \u001b[38;5;28;01mas\u001b[39;00m \u001b[38;5;21;01mplt\u001b[39;00m\n\u001b[0;32m      3\u001b[0m \u001b[38;5;28;01mimport\u001b[39;00m \u001b[38;5;21;01mnumpy\u001b[39;00m \u001b[38;5;28;01mas\u001b[39;00m \u001b[38;5;21;01mnp\u001b[39;00m\n",
      "\u001b[1;31mModuleNotFoundError\u001b[0m: No module named 'imageio.v2'"
     ]
    }
   ],
   "source": [
    "import imageio.v2 as imageio\n",
    "import matplotlib.pyplot as plt\n",
    "import numpy as np"
   ]
  },
  {
   "cell_type": "code",
   "execution_count": null,
   "id": "3ab59ded",
   "metadata": {},
   "outputs": [],
   "source": [
    "def func(x):\n",
    "    return float(4*np.sin(x/2) + np.cos(x) * np.tanh(x) - x + 2)\n",
    "\n",
    "def dfunc(x):\n",
    "    return float(2*np.cos(x/2) - np.sin(x)*np.tanh(x) + np.cos(x) / (np.cosh(x)**2) - 1)\n",
    "\n",
    "def breakCheck1(x1, x0):\n",
    "    if (np.abs(x1 - x0) <= 1e-3):\n",
    "        return True\n",
    "    return False\n",
    "\n",
    "def breakCheck2(x1):\n",
    "    if (np.abs(func(x1)) <= 1e-3):\n",
    "        return True\n",
    "    return False\n",
    "    \n",
    "def create_frame(t):\n",
    "    fig = plt.figure(figsize=(12, 12))\n",
    "    \n",
    "    xn = []\n",
    "    x0 = float(9 - t/(100/8))\n",
    "    xn.append(x0)\n",
    "    x1 = x0 - func(x0)/(dfunc(x0))\n",
    "    xn.append(x1)\n",
    "    a = breakCheck1(x1, x0)\n",
    "    b = breakCheck2(x1)\n",
    "    index = 1;\n",
    "    while(not (a or b)):\n",
    "        x0 = x1\n",
    "        x1 = x0 -  func(x0)/dfunc(x0)\n",
    "        xn.append(x1)\n",
    "        a = breakCheck1(x1, x0)\n",
    "        b = breakCheck2(x1)\n",
    "        index += 1\n",
    "        if (index > 30):\n",
    "            break\n",
    "    \n",
    "    x = np.linspace(0, 10, 100)\n",
    "    y = [func(t) for t in x]\n",
    "    yn = [func(t) for t in xn]\n",
    "    plt.plot(x, y)\n",
    "    plt.plot(x, [0]*len(x), 'k')\n",
    "    plt.plot(xn, [0]*len(xn), 'ro')\n",
    "    plt.plot(xn, yn, 'ro')\n",
    "    root = 4.7927776110652285104\n",
    "    plt.plot(root, 0, 'go')\n",
    "    for i in range(len(xn) - 1):\n",
    "        plt.plot(xn[i:i+2], [func(xn[i]), 0], 'k--')\n",
    "        plt.plot([xn[i]]*2, [func(xn[i]), 0], 'k--')\n",
    "        \n",
    "    plt.axis([0-1, 10+1, min(y)-1, max(y)+1])\n",
    "    plt.grid()\n",
    "    plt.savefig(f'img_{t}.png', \n",
    "                transparent = False,  \n",
    "                facecolor = 'white'\n",
    "               )\n",
    "    plt.close()\n",
    "    \n"
   ]
  },
  {
   "cell_type": "code",
   "execution_count": null,
   "id": "54136673",
   "metadata": {
    "scrolled": false
   },
   "outputs": [],
   "source": [
    "time = [i for i in range(1, 100 + 1)]\n",
    "frames = []\n",
    "for t in time:\n",
    "    create_frame(t)\n",
    "    frames.append(imageio.imread(f'img_{t}.png'))"
   ]
  },
  {
   "cell_type": "code",
   "execution_count": null,
   "id": "9f614397",
   "metadata": {},
   "outputs": [],
   "source": [
    "imageio.mimsave('.example.gif',\n",
    "                frames,\n",
    "                fps = 8, loop = 0)"
   ]
  },
  {
   "cell_type": "code",
   "execution_count": null,
   "id": "17861b04",
   "metadata": {},
   "outputs": [],
   "source": []
  }
 ],
 "metadata": {
  "kernelspec": {
   "display_name": "Python 3 (ipykernel)",
   "language": "python",
   "name": "python3"
  },
  "language_info": {
   "codemirror_mode": {
    "name": "ipython",
    "version": 3
   },
   "file_extension": ".py",
   "mimetype": "text/x-python",
   "name": "python",
   "nbconvert_exporter": "python",
   "pygments_lexer": "ipython3",
   "version": "3.9.12"
  }
 },
 "nbformat": 4,
 "nbformat_minor": 5
}
